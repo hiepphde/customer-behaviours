{
 "cells": [
  {
   "cell_type": "code",
   "execution_count": null,
   "id": "4c95f1e2",
   "metadata": {},
   "outputs": [],
   "source": [
    "from pyspark.sql import SparkSession\n",
    "from pyspark.sql import SQLContext\n",
    "from pyspark.sql.functions import when\n",
    "from pyspark.sql.functions import col\n",
    "from pyspark.sql.types import * \n",
    "from pyspark.sql.functions import lit\n",
    "import pyodbc\n",
    "import pandas as pd\n",
    "import pyspark.sql.functions as sf\n",
    "import mysql.connector"
   ]
  },
  {
   "cell_type": "code",
   "execution_count": null,
   "id": "7ba950e8",
   "metadata": {},
   "outputs": [],
   "source": [
    "spark = SparkSession.builder.config('spark.driver.memory','20g').getOrCreate()"
   ]
  },
  {
   "cell_type": "code",
   "execution_count": null,
   "id": "31e189c4",
   "metadata": {},
   "outputs": [],
   "source": [
    "def process_log_data(path,file_name,date):\n",
    "    df = spark.read.json(path+file_name)\n",
    "    df = df.select('_source.AppName','_source.Contract','_source.Mac','_source.TotalDuration')\n",
    "    df = df.withColumn('Date',lit(date))\n",
    "    df = df.withColumn('Type',\n",
    "                 when((col(\"AppName\") == 'CHANNEL') | (col(\"AppName\") =='DSHD')| (col(\"AppName\") =='KPLUS')| (col(\"AppName\") =='KPlus'), \"Truyền Hình\")\n",
    "          .when((col(\"AppName\") == 'VOD') | (col(\"AppName\") =='FIMS_RES')| (col(\"AppName\") =='BHD_RES')| \n",
    "                 (col(\"AppName\") =='VOD_RES')| (col(\"AppName\") =='FIMS')| (col(\"AppName\") =='BHD')| (col(\"AppName\") =='DANET'), \"Phim Truyện\")\n",
    "          .when((col(\"AppName\") == 'RELAX'), \"Giải Trí\")\n",
    "          .when((col(\"AppName\") == 'CHILD'), \"Thiếu Nhi\")\n",
    "          .when((col(\"AppName\") == 'SPORT'), \"Thể Thao\")\n",
    "          .otherwise(\"Error\"))\n",
    "    df = df.select('Contract','Type','TotalDuration','Date')\n",
    "    df = df.groupBy('Contract','Type','Date').agg({'TotalDuration':'sum'}).withColumnRenamed('sum(TotalDuration)','TotalDuration')\n",
    "    return df "
   ]
  },
  {
   "cell_type": "code",
   "execution_count": null,
   "id": "12d79721",
   "metadata": {},
   "outputs": [],
   "source": [
    "def main_task():\n",
    "    path = 'E:\\\\BigData\\\\Dataset\\\\Behaviours_User\\\\'\n",
    "    file_name = '20220401.json'\n",
    "    date = '2022-04-01'\n",
    "    df = process_log_data(path,file_name,date)\n",
    "    i = 2 \n",
    "    while i < 10:\n",
    "        file_name = '2022040{}.json'.format(i)\n",
    "        date = '2022-04-0{}'.format(i)\n",
    "        df1 = process_log_data(path,file_name,date)\n",
    "        df = df.union(df1)\n",
    "        i+= 1 \n",
    "    while i <= 30: \n",
    "        file_name = '202204{}.json'.format(i)\n",
    "        date = '2022-04-{}'.format(i)\n",
    "        df1 = process_log_data(path,file_name,date)\n",
    "        df = df.union(df1)\n",
    "        i += 1 \n",
    "    return df "
   ]
  },
  {
   "cell_type": "code",
   "execution_count": null,
   "id": "3c2a75ae",
   "metadata": {},
   "outputs": [],
   "source": [
    "def process_daily_statistic(df):\n",
    "    daily_statistic = df.groupBy('Date','Type').agg({'TotalDuration':'sum','Contract':'count'}).withColumnRenamed('sum(TotalDuration)','TotalDuration').withColumnRenamed('count(Contract)','TotalUsers')\n",
    "    daily_statistics = daily_statistic.withColumn('TotalDuration',col('TotalDuration')/3600)\n",
    "    return daily_statistics"
   ]
  },
  {
   "cell_type": "code",
   "execution_count": null,
   "id": "a781d492",
   "metadata": {},
   "outputs": [],
   "source": [
    "def process_customer_statistic(df):\n",
    "    df = df.drop('Date')\n",
    "    df = df.groupBy('Contract','Type').agg({'TotalDuration':'sum'}).withColumnRenamed('sum(TotalDuration)','TotalDuration')\n",
    "    df = df.filter(df.Type != 'Error')\n",
    "    TV = df.filter(df.Type=='Truyền Hình').drop('Type')\n",
    "    Sport = df.filter(df.Type=='Thể Thao').drop('Type')\n",
    "    Movie = df.filter(df.Type=='Phim Truyện').drop('Type')\n",
    "    Child = df.filter(df.Type=='Thiếu Nhi').drop('Type')\n",
    "    Relax = df.filter(df.Type=='Giải Trí').drop('Type')\n",
    "    TV = TV.withColumnRenamed('TotalDuration','TVDuration')\n",
    "    Sport = Sport.withColumnRenamed('TotalDuration','SportDuration')\n",
    "    Child = Child.withColumnRenamed('TotalDuration','ChildDuration')\n",
    "    Relax = Relax.withColumnRenamed('TotalDuration','RelaxDuration')\n",
    "    Movie = Movie.withColumnRenamed('TotalDuration','MovieDuration')\n",
    "    result = TV.join(Sport, ['Contract'], how='full').join(Movie,['Contract'],how ='full').join(Child,['Contract'],how ='full').join(Relax,['Contract'],how ='full')\n",
    "    result = result.withColumn(\"Date\",lit('2022-04'))\n",
    "    return result "
   ]
  },
  {
   "cell_type": "code",
   "execution_count": null,
   "id": "da982922",
   "metadata": {},
   "outputs": [],
   "source": [
    "def import_to_database(user,password,host,database,data):\n",
    "    user = user\n",
    "    password = password\n",
    "    host = host\n",
    "    database = database\n",
    "    conn = mysql.connector.connect(user = user,password = password,host = host,database = database)\n",
    "    cursor = conn.cursor()\n",
    "    data = data[['Contract', 'Date', 'SportDuration', 'TVDuration', 'ChildDuration','RelaxDuration', 'MovieDuration', 'Most_Watch']]\n",
    "    sql = \"\"\"INSERT INTO customer_behaviour VALUES (%s,%s,%s,%s,%s,%s,%s,%s)\"\"\"\n",
    "    cursor.executemany(sql, data.values.tolist())\n",
    "    conn.commit()\n",
    "    return print(\"Import Successfully\")"
   ]
  },
  {
   "cell_type": "code",
   "execution_count": null,
   "id": "f4c49902",
   "metadata": {},
   "outputs": [],
   "source": [
    "df = main_task() "
   ]
  },
  {
   "cell_type": "code",
   "execution_count": null,
   "id": "6d0e88e5",
   "metadata": {},
   "outputs": [],
   "source": [
    "summary_result = process_daily_statistic(df)"
   ]
  },
  {
   "cell_type": "code",
   "execution_count": null,
   "id": "5bfd8f59",
   "metadata": {},
   "outputs": [],
   "source": [
    "customer_result = process_customer_statistic(summary_result)"
   ]
  },
  {
   "cell_type": "code",
   "execution_count": null,
   "id": "02fa55e8",
   "metadata": {},
   "outputs": [],
   "source": [
    "import_to_database('root','','localhost','data_engineer',customer_result)"
   ]
  }
 ],
 "metadata": {
  "kernelspec": {
   "display_name": "Python 3 (ipykernel)",
   "language": "python",
   "name": "python3"
  },
  "language_info": {
   "codemirror_mode": {
    "name": "ipython",
    "version": 3
   },
   "file_extension": ".py",
   "mimetype": "text/x-python",
   "name": "python",
   "nbconvert_exporter": "python",
   "pygments_lexer": "ipython3",
   "version": "3.9.12"
  }
 },
 "nbformat": 4,
 "nbformat_minor": 5
}
